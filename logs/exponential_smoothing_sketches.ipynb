{
 "cells": [
  {
   "cell_type": "code",
   "execution_count": 4,
   "id": "6c2980ca",
   "metadata": {},
   "outputs": [],
   "source": [
    "import matplotlib.pyplot as plt\n",
    "import numpy as np\n",
    "import pandas as pd"
   ]
  },
  {
   "cell_type": "code",
   "execution_count": 29,
   "id": "92adf51e",
   "metadata": {},
   "outputs": [],
   "source": [
    "df = pd.read_csv(\"MASKEDPPOv2_20e6_logfile.txt\", index_col=0)\n",
    "df.drop(columns=[\"(%) invalid\"], inplace=True)\n",
    "\n",
    "df2 = pd.read_csv(\"MASKEDPPOv2_3e6_logfile.txt\", index_col=0)\n",
    "df2.drop(columns=[\"(%) invalid\"], inplace=True)"
   ]
  },
  {
   "cell_type": "code",
   "execution_count": 37,
   "id": "a469a9cd",
   "metadata": {},
   "outputs": [],
   "source": [
    "wins = df.iloc[:,0].values\n",
    "wins2 = df2.iloc[:,0].values"
   ]
  },
  {
   "cell_type": "markdown",
   "id": "2b4cc7a2",
   "metadata": {},
   "source": [
    "The simplest form of exponential smoothing is given by the formula:\n",
    "\n",
    "$$\n",
    "s_{t}=\\alpha x_{t}+(1-\\alpha )s_{t-1}=s_{t-1}+\\alpha (x_{t}-s_{t-1})\n",
    "$$"
   ]
  },
  {
   "cell_type": "code",
   "execution_count": 38,
   "id": "6b0d5d87",
   "metadata": {},
   "outputs": [
    {
     "name": "stderr",
     "output_type": "stream",
     "text": [
      "100%|██████████████████████████████████████████████████████████████████████████████████████████████████████████████| 19999/19999 [00:00<00:00, 1672353.08it/s]\n"
     ]
    }
   ],
   "source": [
    "from tqdm import tqdm\n",
    "\n",
    "s_wins = [None] * len(wins)\n",
    "alpha=0.001\n",
    "s_wins[0] = wins[0]\n",
    "for idx in tqdm(range(1, len(wins))):\n",
    "    s_wins[idx] = alpha * wins[idx] + (1-alpha)*s_wins[idx-1]"
   ]
  },
  {
   "cell_type": "code",
   "execution_count": 36,
   "id": "ac73cbdd",
   "metadata": {},
   "outputs": [
    {
     "name": "stderr",
     "output_type": "stream",
     "text": [
      "100%|███████████████████████████████████████████████████████████████████████████████████████████████████████████████| 19999/19999 [00:00<00:00, 888014.88it/s]\n"
     ]
    }
   ],
   "source": [
    "from tqdm import tqdm\n",
    "\n",
    "s_wins2 = [None] * len(wins2)\n",
    "alpha=0.001\n",
    "s_wins2[0] = wins2[0]\n",
    "for idx in tqdm(range(1, len(wins2))):\n",
    "    s_wins2[idx] = alpha * wins2[idx] + (1-alpha)*s_wins2[idx-1]"
   ]
  },
  {
   "cell_type": "code",
   "execution_count": 34,
   "id": "21b03cf0",
   "metadata": {},
   "outputs": [
    {
     "data": {
      "image/png": "[encoded data removed]",
      "text/plain": [
       "<Figure size 432x288 with 1 Axes>"
      ]
     },
     "metadata": {
      "needs_background": "light"
     },
     "output_type": "display_data"
    }
   ],
   "source": [
    "fig, ax = plt.subplots()\n",
    "\n",
    "ax.plot(s_wins2, lw=2, label=\"3e6\")\n",
    "ax.plot(s_wins, lw=2, label=\"20e6\")\n",
    "\n",
    "fig.legend()\n",
    "plt.show()"
   ]
  },
  {
   "cell_type": "code",
   "execution_count": null,
   "id": "39638022",
   "metadata": {},
   "outputs": [],
   "source": []
  }
 ],
 "metadata": {
  "kernelspec": {
   "display_name": "Python 3 (ipykernel)",
   "language": "python",
   "name": "python3"
  },
  "language_info": {
   "codemirror_mode": {
    "name": "ipython",
    "version": 3
   },
   "file_extension": ".py",
   "mimetype": "text/x-python",
   "name": "python",
   "nbconvert_exporter": "python",
   "pygments_lexer": "ipython3",
   "version": "3.7.13"
  }
 },
 "nbformat": 4,
 "nbformat_minor": 5
}
